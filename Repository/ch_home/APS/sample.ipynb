{
 "cells": [
  {
   "cell_type": "markdown",
   "metadata": {},
   "source": [
    "# Heading"
   ]
  },
  {
   "cell_type": "markdown",
   "metadata": {},
   "source": [
    "- Point1\n",
    "- Point2\n",
    " - Latex\n",
    "- $HTML$ "
   ]
  },
  {
   "cell_type": "markdown",
   "metadata": {},
   "source": [
    "<h2> Heading via HTML</h2>"
   ]
  },
  {
   "cell_type": "markdown",
   "metadata": {},
   "source": [
    "1. Point1\n",
    "2. Point2\n",
    "    1. Sub1\n",
    "    2. Sub2"
   ]
  },
  {
   "cell_type": "markdown",
   "metadata": {},
   "source": [
    "$a \\ne 0$"
   ]
  },
  {
   "cell_type": "markdown",
   "metadata": {},
   "source": [
    "- $ax^2 + bx + c = 0$ (<u>Comments about roots</u>)\n",
    "    - $d \\ge 0;$ roots are **real**\n",
    "        - $d > 0;$ roots are real and *distinct*\n",
    "        - $d = 0;$ roots are real and _same_\n",
    "    - $d < 0;$ roots are __complex__    "
   ]
  },
  {
   "cell_type": "markdown",
   "metadata": {},
   "source": [
    "$y = f(x)$ is $\\left(-\\frac{b}{2a},c-\\frac{b^2}{4a}\\right)$."
   ]
  },
  {
   "cell_type": "markdown",
   "metadata": {},
   "source": [
    "### Table\n",
    "| $d = b^2-4ac$  |     Comments about roots   |\n",
    "|----------------|----------------------------|\n",
    "|    $d > 0$     |roots are real and distinct |\n",
    "|    $d = 0$     |roots are real and same     |\n",
    "|    $d < 0$     |roots are complex           |"
   ]
  },
  {
   "cell_type": "markdown",
   "metadata": {},
   "source": [
    "## Algorithm : DPC (Dechter, Meiri, and Pearl 1991)"
   ]
  },
  {
   "cell_type": "markdown",
   "metadata": {},
   "source": [
    "**Input**: A weighted directed graph $G = (V, E)$ and a vertex ordering $d : V → {1, . . . , n}$\n",
    "\n",
    "**Output**: CONSISTENT if DPC could be enforced on G;\n",
    "            INCONSISTENT if a negative cycle was found\n",
    "            \n",
    "**for** $k ← n$ to $1$ do:<br/>\n",
    "&nbsp;&nbsp;&nbsp;&nbsp;&nbsp;&nbsp;\n",
    "**forall** $i < j < k$ such that ${i, k}$, ${j, k} ∈ E$ do:<br/>\n",
    "&nbsp;&nbsp;&nbsp;&nbsp;&nbsp;&nbsp;\n",
    "$w_{i→j} ← min${$w_{i→j} , w_{i→k} + w_{k→j}$}<br/>\n",
    "&nbsp;&nbsp;&nbsp;&nbsp;&nbsp;&nbsp;\n",
    "$w_{j→i} ← min${$w_{j→i} , w_{j→k} + w_{k→i} $}<br/>\n",
    "&nbsp;&nbsp;&nbsp;&nbsp;&nbsp;&nbsp;\n",
    "$E ← E$ $ ∪ $ {${i, j}$}<br/>\n",
    "&nbsp;&nbsp;&nbsp;&nbsp;&nbsp;&nbsp;\n",
    "if $w_{i→j} + w_{j→i}$ $ < 0 $ then<br/>\n",
    "&nbsp;&nbsp;&nbsp;&nbsp;&nbsp;&nbsp;&nbsp;&nbsp;&nbsp;&nbsp;&nbsp;&nbsp;\n",
    "return **INCONSISTENT**<br/>\n",
    "return **CONSISTENT**<br/>\n",
    "            "
   ]
  },
  {
   "cell_type": "markdown",
   "metadata": {},
   "source": [
    "### Algorithm : Snowball"
   ]
  },
  {
   "cell_type": "markdown",
   "metadata": {},
   "source": [
    "**Input** : Weighted directed **DPC** graph $G = (V, A)$\n",
    "\n",
    "**Output** : Distance matrix D\n",
    "\n",
    "$∀i, j ∈ V : D[i][j] ← ∞$<br/>\n",
    "$∀i ∈ V : D[i][i] ← 0$<br/>\n",
    "for k ← 1 to n do<br/>\n",
    "forall j < k such that {j, k} ∈ E do<br/>\n",
    "forall i ∈ {1, . . . , k − 1} do<br/>\n",
    "D[i][k] ← min{D[i][k], D[i][j] + w j→k }<br/>\n",
    "D[k][i] ← min{D[k][i], w k→j + D[j][i]}<br/>\n",
    "return D<br/>"
   ]
  }
 ],
 "metadata": {
  "kernelspec": {
   "display_name": "Python 3",
   "language": "python",
   "name": "python3"
  },
  "language_info": {
   "codemirror_mode": {
    "name": "ipython",
    "version": 3
   },
   "file_extension": ".py",
   "mimetype": "text/x-python",
   "name": "python",
   "nbconvert_exporter": "python",
   "pygments_lexer": "ipython3",
   "version": "3.6.6"
  }
 },
 "nbformat": 4,
 "nbformat_minor": 2
}
